{
 "cells": [
  {
   "cell_type": "markdown",
   "metadata": {},
   "source": [
    "# Question-1 => List1 = [1,2,3,4,5,7,8] List2 = ['a','b','c','d','e']"
   ]
  },
  {
   "cell_type": "markdown",
   "metadata": {},
   "source": [
    "__Convert List To Dictionary In One Line Code Using List Comprehension (Without Using Zip Method)__"
   ]
  },
  {
   "cell_type": "code",
   "execution_count": 1,
   "metadata": {},
   "outputs": [
    {
     "name": "stdout",
     "output_type": "stream",
     "text": [
      "The Required Dictionary Is : {1: 'a', 2: 'b', 3: 'c', 4: 'd', 5: 'e', 7: 'f', 8: 'g'}\n"
     ]
    }
   ],
   "source": [
    "List1 = [1,2,3,4,5,7,8]                                #List1 Of Integers\n",
    "List2 = ['a','b','c','d','e','f','g']                  #List2 Of Characters\n",
    "\n",
    "#Converting The Above 2 Lists Into Dictionary Using List Comprehension In 1 Line Code\n",
    "res = {List1[i]: List2[i] for i in range(len(List1))}\n",
    "print('The Required Dictionary Is :',res)"
   ]
  }
 ],
 "metadata": {
  "kernelspec": {
   "display_name": "Python 3",
   "language": "python",
   "name": "python3"
  },
  "language_info": {
   "codemirror_mode": {
    "name": "ipython",
    "version": 3
   },
   "file_extension": ".py",
   "mimetype": "text/x-python",
   "name": "python",
   "nbconvert_exporter": "python",
   "pygments_lexer": "ipython3",
   "version": "3.7.6"
  }
 },
 "nbformat": 4,
 "nbformat_minor": 4
}
